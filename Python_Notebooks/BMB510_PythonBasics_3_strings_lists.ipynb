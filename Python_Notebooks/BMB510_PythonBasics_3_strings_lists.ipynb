{
 "cells": [
  {
   "cell_type": "markdown",
   "metadata": {},
   "source": [
    "# Python Basics. Part II\n",
    "'the task of introducing bugs into code is called programming' anon."
   ]
  },
  {
   "cell_type": "markdown",
   "metadata": {},
   "source": [
    "## String objects\n",
    "A string object is delimited by single quotes '' or double quotes \"\". "
   ]
  },
  {
   "cell_type": "code",
   "execution_count": null,
   "metadata": {},
   "outputs": [],
   "source": [
    "s1 = \"this is a string\"\n",
    "s2 = \"so is this\"\n",
    "print(s1)\n",
    "print(s2)"
   ]
  },
  {
   "cell_type": "markdown",
   "metadata": {},
   "source": [
    "A line of text is a string, but a string is more general. A string may contain multiple lines of text or even the whole contents of a file. For example using the special character \\n we can have more than one line of text in a single string object. \\n (backslash n) is the newline character."
   ]
  },
  {
   "cell_type": "code",
   "execution_count": null,
   "metadata": {
    "scrolled": true
   },
   "outputs": [],
   "source": [
    "two_lines = '1st line \\n\\n\\n second line'\n",
    "print(two_lines)"
   ]
  },
  {
   "cell_type": "code",
   "execution_count": null,
   "metadata": {
    "scrolled": false
   },
   "outputs": [],
   "source": [
    "print(s1,'\\n \\n')"
   ]
  },
  {
   "cell_type": "code",
   "execution_count": null,
   "metadata": {},
   "outputs": [],
   "source": [
    "# concatenate strings using the add operator +\n",
    "s12 = s1 + ' ' + '\\t' + s2 # \\t is the tab special character\n",
    "print(s12)"
   ]
  },
  {
   "cell_type": "markdown",
   "metadata": {},
   "source": [
    "#### Strings, strings and more strings\n",
    "All input and output is done using strings, so Python has lots ways to handle them "
   ]
  },
  {
   "cell_type": "code",
   "execution_count": null,
   "metadata": {},
   "outputs": [],
   "source": [
    "#\n",
    "# inputting text from keyboard\n",
    "stuff = input('input file name with *.dat extension>> ')\n",
    "print(stuff)"
   ]
  },
  {
   "cell_type": "code",
   "execution_count": null,
   "metadata": {},
   "outputs": [],
   "source": [
    "#\n",
    "# inputting numerical data from keyboard\n",
    "# all input/output is done as strings, so we use the Python inbuilt functions int(), float() to convert\n",
    "i1 = int(input('enter an integer>> '))\n",
    "print(i1)\n",
    "x1 = float(input('enter a float>> '))\n",
    "print(x1)"
   ]
  },
  {
   "cell_type": "markdown",
   "metadata": {},
   "source": [
    "strings are Python objects (as is pretty much everything in Python.) Objects come with their own set of methods, depending on their type"
   ]
  },
  {
   "cell_type": "code",
   "execution_count": null,
   "metadata": {},
   "outputs": [],
   "source": [
    "Stuff = stuff.upper()\n",
    "print(Stuff)\n",
    "print(stuff)\n",
    "S1 = s1.upper()\n",
    "print(S1)"
   ]
  },
  {
   "cell_type": "markdown",
   "metadata": {},
   "source": [
    "This introduces the method syntax: objectname.method(). The upper method has no arguments, so the parentheses are empty. This example also shows that all variable names/object names in Python are case sensitive.  stuff and Stuff are two different objects.\n",
    "\n",
    "#### programming tip\n",
    "Choose your object names carefully. xCoordAtom is better than x.\n",
    "Wise name choices will help you self-document code, enables others (and you months later) to read the code"
   ]
  },
  {
   "cell_type": "code",
   "execution_count": null,
   "metadata": {},
   "outputs": [],
   "source": [
    "# some of the many operations on strings\n",
    "#\n",
    "# Python's built-in function len() gives the length of any object\n",
    "s4 = ' a long string of text   '\n",
    "i = len(s4)\n",
    "print('length of string: ',i)\n",
    "#\n",
    "# searching, using the 'in' operator\n",
    "s4_sub = 'g'\n",
    "if(s4_sub in s4):\n",
    "    print('found substring ',s4_sub)\n",
    "else: \n",
    "    print('substring ',s4_sub, ' not found')\n",
    "#\n",
    "# strip leading, trailing whitespace\n",
    "s5 = s4.strip()\n",
    "print(s5)\n",
    "#\n",
    "# \n",
    "if(s4.startswith(' a')):\n",
    "    print('starts with string a')\n",
    "#\n",
    "# finds where the substring is. \n",
    "index = s4.find(s4_sub)\n",
    "print('position of substring: ',index) # position of sub string"
   ]
  },
  {
   "cell_type": "markdown",
   "metadata": {},
   "source": [
    "#### notes\n",
    "The find method will return a value of -1 if the substring is not found. \n",
    "Note that Python numbering starts from 0 (zero), in other words  0 is the first position. This is a source of many programming errors, especially if you, like me, learned Fortran first.\n",
    "\n",
    "Now is a good time to discuss indexing and slicing"
   ]
  },
  {
   "cell_type": "markdown",
   "metadata": {},
   "source": [
    "## Indexing and Slicing\n",
    "strings are one example of sequence objects in Python. A sequence object means its elements are in a defined order, starting from the zero'th position, and ending with the (n -1)th position, where n is the length of the object -- the value returned by the len() function. The index of the i'th element of an object is specified as [i]. A range (slice) is specified by [i:j] and includes all elements from i up to but NOT including j."
   ]
  },
  {
   "cell_type": "code",
   "execution_count": null,
   "metadata": {},
   "outputs": [],
   "source": [
    "#\n",
    "#indexing and slicing is illustrated here on strings, but it work the same on any sequence object\n",
    "s1 = 'another string'\n",
    "n = len(s1)\n",
    "print(s1)      # everthing\n",
    "print(s1[2])    # one element\n",
    "print(s1[2:4])  # range\n",
    "print(s1[:(n-1)]) # from first to penultimate\n",
    "print(s1[:-1])     # from 1st to penultimate if you don't know the length\n",
    "print(s1[-2])   # Python handles a negative index by counting back from the end"
   ]
  },
  {
   "cell_type": "markdown",
   "metadata": {},
   "source": [
    "## List Objects\n",
    "The Python list is another type of sequence object. It is very versatile and it is used everywhere in Python."
   ]
  },
  {
   "cell_type": "code",
   "execution_count": null,
   "metadata": {},
   "outputs": [],
   "source": [
    "#\n",
    "# creating a list. the square brackets [] tell Python that you are creating a list object\n",
    "# and the elements are separated by a comma\n",
    "l1 = ['a string',10, 1.e+3]\n",
    "print('length: ',len(l1)) # the len() function works on a lot of Python objects\n",
    "print(l1[-1])"
   ]
  },
  {
   "cell_type": "markdown",
   "metadata": {},
   "source": [
    "A list can contain any kind of Python object. Here we have included a string object, an integer and a float.  For each element, Python interprets what kind of thing it is -- the string by the quotes, the float by the decimal point and/or the exponential notation, the integer by default: numeric digits, no decimal point. A list can even include another list as an element."
   ]
  },
  {
   "cell_type": "code",
   "execution_count": null,
   "metadata": {},
   "outputs": [],
   "source": [
    "l2 = [1, 2, 3]\n",
    "l3 = [l1,l2]\n",
    "#\n",
    "# print the list\n",
    "print(l3)\n",
    "#\n",
    "# print one of the elements- itself a list\n",
    "print(l3[0])\n",
    "#\n",
    "# print the element of the list element\n",
    "print(l3[0][1])"
   ]
  },
  {
   "cell_type": "code",
   "execution_count": null,
   "metadata": {},
   "outputs": [],
   "source": [
    "#\n",
    "# creating an empty list\n",
    "l4 = [] \n",
    "# adding to it using the append method\n",
    "l4.append(1)\n",
    "l4.append(2)\n",
    "l4.append(4)\n",
    "l4.append(3)\n",
    "print('length: ',len(l4))\n",
    "print(l4)"
   ]
  },
  {
   "cell_type": "markdown",
   "metadata": {},
   "source": [
    "The combination of creation of empty list creation with the append method is very useful when you don't yet know what is going into the list, how long it is, and if some other part of your code is going to generate the elements later.\n",
    "\n",
    "All the indexing/slicing rules apply the same way to lists"
   ]
  },
  {
   "cell_type": "code",
   "execution_count": null,
   "metadata": {},
   "outputs": [],
   "source": [
    "print(l4[1])\n",
    "print(l4[-1])\n",
    "print(l4[1:3])"
   ]
  },
  {
   "cell_type": "markdown",
   "metadata": {},
   "source": [
    "#### Some of the many useful list methods"
   ]
  },
  {
   "cell_type": "code",
   "execution_count": null,
   "metadata": {},
   "outputs": [],
   "source": [
    "#\n",
    "# sorting\n",
    "l4.sort()\n",
    "print(l4)\n",
    "l4.sort(reverse=True) \n",
    "print(l4)"
   ]
  },
  {
   "cell_type": "markdown",
   "metadata": {},
   "source": [
    "The sort method rearranges the elements. With no argument, the default is ascending numerical and/or alphabetic order.\n",
    "\n",
    "Stacks and queues"
   ]
  },
  {
   "cell_type": "code",
   "execution_count": null,
   "metadata": {},
   "outputs": [],
   "source": [
    "e1 = l4.pop()\n",
    "print(e1)\n",
    "print(l4)\n",
    "e1 = l4.pop()\n",
    "print(e1)\n",
    "print(l4)"
   ]
  },
  {
   "cell_type": "markdown",
   "metadata": {},
   "source": [
    "the pop() method takes the last element off a list. Combined with the append() method, this is an easy way to implement what programmers call a stack: last in, first out, or 'lifo'. If you use the method with an argument, e.g.  pop(0), the first element is popped off. This implements what programmers call a queue: first in, first out, or 'fifo'."
   ]
  },
  {
   "cell_type": "code",
   "execution_count": null,
   "metadata": {},
   "outputs": [],
   "source": [
    "l4 = [10.,20.,30.,40.]\n",
    "x2 = l4[0]\n",
    "print(l4)\n",
    "x1 = l4.pop(0)\n",
    "print(x1)\n",
    "print(l4)\n",
    "x1 = l4.pop(0)\n",
    "print(x1)\n",
    "print(l4)\n"
   ]
  },
  {
   "cell_type": "markdown",
   "metadata": {},
   "source": [
    "Membership in a list can be tested for using the same 'in' operation used for searching in strings:"
   ]
  },
  {
   "cell_type": "code",
   "execution_count": null,
   "metadata": {},
   "outputs": [],
   "source": [
    "\n",
    "l4 = [1,2,3,4]\n",
    "if(5 in l4):\n",
    "    print('found it')\n",
    "else:\n",
    "    print('did not find it')\n",
    "l4.append(5)\n",
    "if(5 in l4):\n",
    "    print('found it')\n",
    "else:\n",
    "    print('did not find it')\n"
   ]
  },
  {
   "cell_type": "code",
   "execution_count": null,
   "metadata": {},
   "outputs": [],
   "source": []
  }
 ],
 "metadata": {
  "anaconda-cloud": {},
  "kernelspec": {
   "display_name": "Python 3 (ipykernel)",
   "language": "python",
   "name": "python3"
  },
  "language_info": {
   "codemirror_mode": {
    "name": "ipython",
    "version": 3
   },
   "file_extension": ".py",
   "mimetype": "text/x-python",
   "name": "python",
   "nbconvert_exporter": "python",
   "pygments_lexer": "ipython3",
   "version": "3.7.10"
  }
 },
 "nbformat": 4,
 "nbformat_minor": 1
}
