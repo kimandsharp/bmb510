{
 "cells": [
  {
   "cell_type": "markdown",
   "metadata": {},
   "source": [
    "# Python Basics. Part VII."
   ]
  },
  {
   "cell_type": "markdown",
   "metadata": {},
   "source": [
    "## Using the numpy package to do numerical computing\n",
    "numpy (short for numerical python) is custom designed to make numerical computing in Python fast, and to simplify writing of number-crunching code. It has a very rich and extensive set of defs, methods and objects for mathematical computing. Key to numeric computing is the efficient repetition of operations, which is done using a new object, the numpy array:"
   ]
  },
  {
   "cell_type": "code",
   "execution_count": null,
   "metadata": {
    "scrolled": true
   },
   "outputs": [],
   "source": [
    "import numpy as np\n",
    "dir(np)\n",
    "nsize = 10\n",
    "# \n",
    "# create one-dimensional numpy arrays of integer, float numbers- initial their values to 0\n",
    "i1 = np.zeros(nsize,'int')\n",
    "x = np.zeros(nsize,'float')\n",
    "print(i1)\n",
    "print(type(i1))\n",
    "# \n",
    "# create a two-dimensional numpy array of floating point numbers- initial their values to 0\n",
    "xsize = 3\n",
    "coords = np.zeros((nsize,xsize),'float')\n",
    "#\n",
    "# numpy arrays are indexed and sliced very much like the list object\n",
    "for i in range(xsize):\n",
    "    coords[0][i] = 5.\n",
    "print(x)\n",
    "print(coords[0])\n",
    "print(coords)"
   ]
  },
  {
   "cell_type": "markdown",
   "metadata": {
    "collapsed": true
   },
   "source": [
    "Much of the power of numpy comes from the ability to do math on entire arrays"
   ]
  },
  {
   "cell_type": "code",
   "execution_count": null,
   "metadata": {},
   "outputs": [],
   "source": [
    "#\n",
    "# set up the numpy arrays we need, specifying their size in advance - for speed \n",
    "y = np.ones(nsize,'float')\n",
    "z = np.ones(nsize,'float')\n",
    "#\n",
    "# for loops with numpy arrays work identically to lists, \n",
    "# but use the numpy versions of math functions\n",
    "for i in range(nsize):\n",
    "    y[i] = np.cos(i)\n",
    "    z[i] = np.log(i+1)\n",
    "print(y)\n",
    "print(z)\n",
    "#\n",
    "# numpy enables concise, fast code- implicitly apply same operation to every element of the array\n",
    "# result is another numpy array\n",
    "#\n",
    "# adding/subtracting\n",
    "yz = y + z \n",
    "print(' sum: ',yz)\n",
    "#\n",
    "# divide, multiply\n",
    "w = z/y \n",
    "print(' divide: ',w)\n",
    "#\n",
    "# exponentiation\n",
    "y = z**3\n",
    "print('exponentiation: ',y)\n",
    "#\n",
    "# all the usual trig functions operate on the entire array using the numpy versions, NOT the math versions\n",
    "w = np.sin(y)\n",
    "print('trig: ',w)\n",
    "#\n",
    "# man, min apply to whole arrray, and return a single value, also called a scaler\n",
    "print('max: ',max(y))\n",
    "#\n",
    "# the very useful summation function \n",
    "sumy = sum(y)\n",
    "print('sum of y: ',sumy)\n",
    "medy = np.median(y)\n",
    "print(medy)\n"
   ]
  },
  {
   "cell_type": "markdown",
   "metadata": {},
   "source": [
    "### Lists vs. numpy arrays\n",
    "\n",
    "#### Similarities\n",
    "\n",
    "slicing, indexing\n",
    "\n",
    "#### Differences\n",
    "\n",
    "<font color='red'>lists</font>: Slow. Can dynamically change length using append(), pop(), delete() etc. method. Can contain any mix of types: int, float, string, list....   Use standard math package on floats. Must use for loops to operate on the entire list.\n",
    "\n",
    "<font color='red'>numpy arrays</font>: Fast. Length and dimension is specified in advance and not changed. Contains only numbers all of same type, either int or float. Use numpy's inbuilt math methods, not the math package. Can do an operation on every element of the whole array with a single statement\n"
   ]
  },
  {
   "cell_type": "code",
   "execution_count": null,
   "metadata": {},
   "outputs": [],
   "source": []
  }
 ],
 "metadata": {
  "anaconda-cloud": {},
  "kernelspec": {
   "display_name": "Python 3 (ipykernel)",
   "language": "python",
   "name": "python3"
  },
  "language_info": {
   "codemirror_mode": {
    "name": "ipython",
    "version": 3
   },
   "file_extension": ".py",
   "mimetype": "text/x-python",
   "name": "python",
   "nbconvert_exporter": "python",
   "pygments_lexer": "ipython3",
   "version": "3.7.10"
  }
 },
 "nbformat": 4,
 "nbformat_minor": 1
}
