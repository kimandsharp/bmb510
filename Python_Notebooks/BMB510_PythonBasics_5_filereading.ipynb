{
 "cells": [
  {
   "cell_type": "markdown",
   "metadata": {},
   "source": [
    "# Python Basics. Part IV"
   ]
  },
  {
   "cell_type": "markdown",
   "metadata": {},
   "source": [
    "\n",
    "\n",
    "## Reading from a file\n",
    "Reading data from a file involves i) getting the name of the file ii) opening the file iii) reading the contents of the file. This includes figuring our how much is in the file, and what kind of information is in there and getting it into your program (the term of art is 'parsing' the file), possibly doing error checking and error handling iv) closing the file.\n",
    "\n",
    "The first thing to remember is that all input and output is in the form of strings. This is not how the data is represented on the computer (remember the ones and zeros), so it needs to be converted.\n",
    "\n",
    "There are quite a number of ways to read a file, depending on what data is in it, the format, etc, so as a rule the input code has to be tailored to the data. Thus, it will vary from program to program. You will typically spend more time writing the input and output parts of your program than the 'math' parts in the middle!\n"
   ]
  },
  {
   "cell_type": "code",
   "execution_count": null,
   "metadata": {
    "scrolled": true
   },
   "outputs": [],
   "source": [
    "#\n",
    "# open and read a file, a general method\n",
    "#\n",
    "filename = input('enter name of input file>> ')  # string set to name of file as it exists on your computer\n",
    "# filename = 'test_input.dat'\n",
    "#\n",
    "# name of a file type object internal to this Python program, \n",
    "# by which we refer to the open file. \"r\" means file is opened for reading\n",
    "# only. The only other option is \"w\", write only\n",
    "filein = open(filename,\"r\")\n",
    "# use Python's file type object method, readlines(), to read entire file in\n",
    "contents = filein.readlines()\n",
    "filein.close()\n",
    "print(contents)\n",
    "#\n",
    "# contents is a list object, each element of which is string object containing 1 line of the input file\n",
    "# basically contents is a complete copy of the file, stored as text (strings)\n",
    "#\n",
    "# the len() function tells us how many lines we read\n",
    "print('read ',len(contents),' lines from ',filename)\n",
    "#\n",
    "# we can loop over the contents list and print out line by line\n",
    "for i in range(len(contents)):\n",
    "    print(contents[i])\n",
    "#\n",
    "# now lets REALLY read in data. In this example we know it is two floats per line, nothing else\n",
    "column1 = []\n",
    "column2 = []\n",
    "for i in range(len(contents)):\n",
    "    line = contents[i].split()  # split is a useful string method, each item on the line is an element in the list\n",
    "    print(type(line))\n",
    "    print(line)\n",
    "    column1.append(float(line[0])) #float converts a string to a floating point number\n",
    "    column2.append(float(line[1]))\n",
    "    #print(line)\n",
    "#\n",
    "print('two columns of data: ')\n",
    "print(column1)\n",
    "print(column2)\n"
   ]
  },
  {
   "cell_type": "code",
   "execution_count": null,
   "metadata": {},
   "outputs": [],
   "source": []
  }
 ],
 "metadata": {
  "anaconda-cloud": {},
  "kernelspec": {
   "display_name": "Python 3 (ipykernel)",
   "language": "python",
   "name": "python3"
  },
  "language_info": {
   "codemirror_mode": {
    "name": "ipython",
    "version": 3
   },
   "file_extension": ".py",
   "mimetype": "text/x-python",
   "name": "python",
   "nbconvert_exporter": "python",
   "pygments_lexer": "ipython3",
   "version": "3.7.10"
  }
 },
 "nbformat": 4,
 "nbformat_minor": 1
}
