{
 "cells": [
  {
   "cell_type": "markdown",
   "metadata": {},
   "source": [
    "# Python. More advanced topics\n",
    "## Classes and Methods\n",
    "Python is what is called an object oriented language. In fact all the data types used so far, numbers, strings, lists, tuples and dictionaries, are Python objects. \n",
    "\n",
    "What is an object? In older programming languages, data was stored in variables while operations on the data were bundled into code units called functions, subroutines or procedures. Data and operations were separate entities. Objects, however, combine both elements of data storage and the operations on data. In Python, objects are used throughout to store data and to implement methods to operate on it. For example string objects store sequences of characters and they support many methods like $\\textbf{.upper()}$, which transform the strings. The list object stores many kinds of data and has methods like  $\\textbf{.append(...)}$ and $\\textbf{.sort()}$. Different objects have different sets of methods that are appropriate to the data being stored\n",
    "\n",
    "You can create your own customized objects using classes. There are three steps:\n",
    "\n",
    "#### 1) Define the class.\n",
    "\n",
    "#### 2) Create one of more 'instances' or 'cases' of your class.\n",
    "\n",
    "#### 3) Use these instance(s)  of  your class\n",
    "\n",
    "It's easiest to learn by example:"
   ]
  },
  {
   "cell_type": "code",
   "execution_count": null,
   "metadata": {},
   "outputs": [],
   "source": [
    "# Step 1: A class definition is basically a template for the creation of your new type of object\n",
    "# by convention class names start with Upper case to distinguish them from defs and regular variables\n",
    "class Sequence: \n",
    "    \"\"\" \n",
    "    as always, start with comments on your code\n",
    "    Sequence is a general class object which will be the basis for\n",
    "    DNA, RNA or protein sequence objects. \n",
    "    \"\"\"\n",
    "    def __init__(self):\n",
    "      \"\"\" \n",
    "      most classes start with a special def named __init__ which is automatically executed just once\n",
    "      every time you create an instance of your class. Here you can place any operations that must be done\n",
    "      every time, like initializing variables. Since the __init__ def is always executed first,\n",
    "      put here any data or data structure needed by the other defs, so they will be defined when needed\n",
    "      \"\"\"\n",
    "      # define which characters can occur in our sequences\n",
    "      self.legal = 'ABCDEFGHIJKLMNOPQRSTUVWXYZ' # A-Z are the legal characters\n",
    "      # create an empty list to store our sequence\n",
    "      self.seq = []\n",
    "    \"\"\"\n",
    "    The heart of any class is a set of defs which implement the methods of your class\n",
    "    Note the defs are one indent over, since they live inside the class definition\n",
    "    \"\"\"   \n",
    "    def getseq(self):\n",
    "      # input our sequence\n",
    "      str = input('enter sequence >> ')\n",
    "      s = str.upper()\n",
    "      for c in s: \n",
    "        #  only store legal characters\n",
    "        if(c in self.legal):\n",
    "          self.seq.append(c)\n",
    "      print('input sequence length: ',len(self.seq))\n",
    "\n",
    "    def printseq(self):\n",
    "      # print nicely in blocks of 10, 50 per line\n",
    "      n = len(self.seq)\n",
    "      for i in range(n):\n",
    "        if(i % 10 == 0): print(' ',end=\"\")\n",
    "        if(i % 50 == 0): print('\\n')\n",
    "        print(self.seq[i],end=\"\")\n",
    "      print('\\n')   "
   ]
  },
  {
   "cell_type": "markdown",
   "metadata": {},
   "source": [
    "Some things to note: The syntax for the defs inside a class is identical to the normal Python defs, except that each def has an extra argument, conventionally called $\\textbf{self}$. This dummy argument must be the first argument, and it is required inside the class definition only. As we see below, when invoking the class methods, the self argument in not needed. Some variables in the defs, such as $\\textbf{self.seq}$ have the prefix $\\textbf{self.}$. This means they can be referred to outside the class object once an instance of the class has been invoked. All other variables such as $\\textbf{c, s}$ are hidden inside the class and cannot be referred to (or messed up!) from outside."
   ]
  },
  {
   "cell_type": "code",
   "execution_count": null,
   "metadata": {
    "scrolled": false
   },
   "outputs": [],
   "source": [
    "# Step 2: create an instance of our Sequence object\n",
    "seq1 = Sequence()\n",
    "# behind the scenes 'self' is replaced by the name we chose for this instance, namely 'seq1'\n",
    "#\n",
    "# Step3: we can now use the methods (defs) of our Sequence object with the usual Python syntax\n",
    "seq1.getseq()\n",
    "seq1.printseq()\n",
    "# remember 'self' was the dummy argument. There were no other arguments in the defs,\n",
    "# and so these two particular methods take no argument.\n",
    "#\n",
    "# we can access a self-prefixed variable from outside the class object, replacing 'self' by the class instance\n",
    "# name, here 'seq1'. Accessing local variables in this way should should be done with caution: generally for \n",
    "# debug-printing or more rarely for assigning its value to another variable, NOT to change its value! Changing the\n",
    "# value can have unpredictable results or break your object\n",
    "print(seq1.seq)\n",
    "#\n",
    "# create and use more instances of our Sequence object as needed\n",
    "seq2 = Sequence()\n",
    "seq2.getseq()\n",
    "# etc..."
   ]
  },
  {
   "cell_type": "code",
   "execution_count": null,
   "metadata": {},
   "outputs": [],
   "source": [
    "print(seq2.seq)"
   ]
  },
  {
   "cell_type": "markdown",
   "metadata": {},
   "source": [
    "## Class Inheritance\n",
    "One of the most powerful features of Python classes is inheritance: A new sub-class can be defined which inherits all the defs and data structures of one or more previously defined classes"
   ]
  },
  {
   "cell_type": "code",
   "execution_count": null,
   "metadata": {},
   "outputs": [],
   "source": [
    "class SequenceAA(Sequence):\n",
    "    \"\"\"\n",
    "    inherit  defs (methods) from the Sequence class by including its name as an argument in the\n",
    "    class statement. To inherit from more than one class, include their names separated by commas\n",
    "    as arguments in the class statement\n",
    "    \"\"\"\n",
    "    def __init__(self):\n",
    "      # we redefine this def for proteins\n",
    "      self.seq = []\n",
    "      self.legal = 'ACDEFGHIKLMNPQRSTVWY' # legal characters exclude BJOUXZ\n",
    "    \n",
    "    def rescount(self,resLetterName):\n",
    "        # a new def, specific to the SequenceAA class\n",
    "        # it has one dummy argument, and one 'real' argument\n",
    "        count = 0\n",
    "        for s in self.seq:\n",
    "            if(s == resLetterName): count += 1\n",
    "        return count\n",
    "    #\n",
    "    # No defs for the getseq and print methods, so they behave the same as in parent class\n",
    "    #"
   ]
  },
  {
   "cell_type": "raw",
   "metadata": {},
   "source": [
    "Speaking in familial terms, Sequence is a parent class of SequenceAA. Inheritance behaves exactly like you expect. Say a new class inherits from SequenceAA, then it also inherits from its grandparent class Sequence. And so on back through the family tree. \n",
    "\n",
    "The code for SequenceAA illustrates the three kinds of defs that classes which inherits can have: \n",
    "\n",
    "i) A redefined def, i.e. one with the same name as a def previously defined in any of its progenitor classes. The example here is the __init__ def. Since Python is an interpreted language and executes code in order, a def could be redefined more than once. The last def is the only one that operates.\n",
    "\n",
    "\n",
    "ii) A new def, i.e. with a name unique to this class and all its progenitors. This implements a method only applicable to the SequenceAA class of objects, or any future classes that inherit from SequenceAA. The example here is the $\\textbf{rescount}$ def.\n",
    "\n",
    "\n",
    "ii) A def inherited from any progenitor that is not redefined inside this class definition. Examples are the \n",
    "$\\textbf{getseq, print}$ defs.\n",
    "\n",
    "Now to use our new sub-class\n"
   ]
  },
  {
   "cell_type": "code",
   "execution_count": null,
   "metadata": {
    "scrolled": true
   },
   "outputs": [],
   "source": [
    "aa1 = SequenceAA()\n",
    "# we get our inherited methods for free!\n",
    "aa1.getseq()\n",
    "aa1.printseq()\n",
    "# use our new method.\n",
    "prolines = aa1.rescount('P') # remember, the dummy self argument is gone, we only need the one real argument\n",
    "print('# of prolines: ',prolines)"
   ]
  },
  {
   "cell_type": "markdown",
   "metadata": {},
   "source": [
    "We'll define a couple more Sequence sub-classes, and have some fun with dictionaries."
   ]
  },
  {
   "cell_type": "code",
   "execution_count": null,
   "metadata": {},
   "outputs": [],
   "source": [
    "class SequenceNA(Sequence):\n",
    "    \"\"\"\n",
    "    inherits general sequence methods, but specialize to nucleic acids\n",
    "    \"\"\"\n",
    "    def __init__(self):\n",
    "      self.seq = []\n",
    "      self.legal = 'AGCTU' # legal characters\n",
    "      # define a dictionary to implement WC base pairing\n",
    "      self.pair = {'A':'T', 'G':'C', 'C':'G', 'T':'A', 'U':'A'}\n",
    "    \n",
    "    def complement(self,RNA=False): \n",
    "      # return the complementary strand, either DNA or RNA\n",
    "      # the RNA argument is optional since a default is given\n",
    "      cseq  = []\n",
    "      for c in self.seq:\n",
    "        c_comp  = self.pair[c]\n",
    "        if(RNA and (c_comp == 'T')): c_comp = 'U'\n",
    "        cseq.append(c_comp)\n",
    "      return cseq\n"
   ]
  },
  {
   "cell_type": "code",
   "execution_count": null,
   "metadata": {},
   "outputs": [],
   "source": [
    "# an instance of a nucleic acid sequence\n",
    "dna1 = SequenceNA()\n",
    "dna1.getseq()\n",
    "# complentary DNA strand\n",
    "dna1.complement()\n",
    "# another NA instance\n",
    "rna1 = SequenceNA()\n",
    "# complementary RNA strand\n",
    "rna1.seq = dna1.complement(RNA=True)\n",
    "rna1.printseq()"
   ]
  },
  {
   "cell_type": "code",
   "execution_count": null,
   "metadata": {},
   "outputs": [],
   "source": [
    "class SequenceRNA(SequenceNA):\n",
    "    \"\"\"\n",
    "    inherits sequenceNA methods\n",
    "    \"\"\"\n",
    "    dna2rna = {'T':'U','U':'U','A':'A','C':'C','G':'G'} # in case we get DNA sequence by mistake\n",
    "    # dictionaries defining genetic code\n",
    "    #=================================================\n",
    "    # if 1st position is U\n",
    "    pos23_u = { \\\n",
    "                'UU':'f','UC':'f','UA':'l','UG':'l', \\\n",
    "                'CU':'s','CC':'s','CA':'s','CG':'s', \\\n",
    "                'AU':'y','AC':'y','AA':'|','AG':'|', \\\n",
    "                'GU':'c','GC':'c','GA':'|','GG':'w', \\\n",
    "                  }\n",
    "    # if 1st position is C\n",
    "    pos23_c = { \\\n",
    "                   'UU':'l','UC':'l','UA':'l','UG':'l', \\\n",
    "                   'CU':'p','CC':'p','CA':'p','CG':'p', \\\n",
    "                   'AU':'h','AC':'h','AA':'q','AG':'q', \\\n",
    "                   'GU':'r','GC':'r','GA':'r','GG':'r', \\\n",
    "                    }\n",
    "    # if 1st position is A\n",
    "    pos23_a = { \\\n",
    "                   'UU':'i','UC':'i','UA':'i','UG':'m', \\\n",
    "                   'CU':'t','CC':'t','CA':'t','CG':'t', \\\n",
    "                   'AU':'n','AC':'n','AA':'k','AG':'k', \\\n",
    "                   'GU':'s','GC':'s','GA':'r','GG':'r', \\\n",
    "                    }\n",
    "    # if 1st position is G\n",
    "    pos23_g = { \\\n",
    "                   'UU':'v','UC':'v','UA':'v','UG':'v', \\\n",
    "                   'CU':'a','CC':'a','CA':'a','CG':'a', \\\n",
    "                   'AU':'d','AC':'d','AA':'e','AG':'e', \\\n",
    "                   'GU':'g','GC':'g','GA':'g','GG':'g', \\\n",
    "                    }\n",
    "    # 1st position is dictionary of dictionaries\n",
    "    pos1 = { 'U':pos23_u, 'C':pos23_c, 'A':pos23_a, 'G':pos23_g }\n",
    "    #=================================================\n",
    "    def __init__(self):\n",
    "        self.seq = []\n",
    "        self.legal = 'AGCU' # legal characters\n",
    "        self.pair = {'A':'U', 'G':'C', 'C':'G', 'U':'A'}\n",
    "\n",
    "    def translate(self,fshift):\n",
    "      aaseq  = []\n",
    "      i = fshift\n",
    "      n = len(self.seq)\n",
    "      while(i+3 <= n):\n",
    "        base1 = self.dna2rna[self.seq[i]]\n",
    "        base2 = self.dna2rna[self.seq[i+1]]\n",
    "        base3 = self.dna2rna[self.seq[i+2]]\n",
    "        base23  = base2 + base3\n",
    "        codon = base1 + base23\n",
    "        print('codon: ',codon)\n",
    "        base23_dict = self.pos1[base1]\n",
    "        aa  = base23_dict[base23]\n",
    "        aaseq.append(aa)\n",
    "        i += 3\n",
    "      return aaseq\n"
   ]
  },
  {
   "cell_type": "code",
   "execution_count": null,
   "metadata": {
    "scrolled": true
   },
   "outputs": [],
   "source": [
    "rna2 = SequenceRNA()\n",
    "rna2.seq = dna1.complement(RNA=True)\n",
    "rna2.printseq()\n",
    "aa2 = SequenceAA()\n",
    "aa2.seq = rna2.translate(0)\n",
    "aa2.printseq()"
   ]
  },
  {
   "cell_type": "code",
   "execution_count": null,
   "metadata": {},
   "outputs": [],
   "source": []
  }
 ],
 "metadata": {
  "anaconda-cloud": {},
  "kernelspec": {
   "display_name": "Python 3 (ipykernel)",
   "language": "python",
   "name": "python3"
  },
  "language_info": {
   "codemirror_mode": {
    "name": "ipython",
    "version": 3
   },
   "file_extension": ".py",
   "mimetype": "text/x-python",
   "name": "python",
   "nbconvert_exporter": "python",
   "pygments_lexer": "ipython3",
   "version": "3.7.10"
  }
 },
 "nbformat": 4,
 "nbformat_minor": 1
}
