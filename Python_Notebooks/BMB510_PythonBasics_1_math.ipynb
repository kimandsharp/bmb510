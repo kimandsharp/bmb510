{
 "cells": [
  {
   "cell_type": "markdown",
   "metadata": {},
   "source": [
    "# Python Basics. Part I"
   ]
  },
  {
   "cell_type": "markdown",
   "metadata": {},
   "source": [
    "Why Python? It is easy to learn, elegant and powerful- scientific code, machine learning, GUI's, networking programs, cloud computing, Google, HP, IBM, NASA et al. all use Python\n",
    "Runs on everything- platform independent. \n",
    "Free, open source and community support is spectacular. \n",
    "\n",
    "Start with:  <a href=\"http://www.python.org\">www.python.org</a>\n",
    "\n",
    "Python is a fully fledged programming language, and it can also function as a scripting language (bascially running other programs or even running your operating system). Python is also a 'glue' language. It can integrate segments of programs written in C, C++, Fortran. PyMol is s good example.\n",
    "Only drawback is it can be slow for number-crunching. However, the numpy package fixes much of this."
   ]
  },
  {
   "cell_type": "markdown",
   "metadata": {},
   "source": [
    "## Topics Covered"
   ]
  },
  {
   "cell_type": "markdown",
   "metadata": {},
   "source": [
    "Core elements of Python language, math, plotting data, and numerical computing.\n",
    "We won't cover more abstract elements: dictionaries, classes, creating methods, inheritance. Python currently exists in two versions, 2.7 and 3. We will be using Python version 3 (also referred to as Python3). A lot of legacy code still uses Python version 2.7 (aka Python27). Almost all the language is the same."
   ]
  },
  {
   "cell_type": "markdown",
   "metadata": {},
   "source": [
    "## Doing math in Python\n",
    "Python has two kinds of number variables: Integers and Floating point numbers (floats). Floats are indicated by decimal digits with a decimal point. If there is no decimal point, Python will interpret it as a integer. If necessary for accuracy, Python will convert convert the output of integer arithmetic to floating point.\n",
    "Some basic math operators: + - * "
   ]
  },
  {
   "cell_type": "code",
   "execution_count": null,
   "metadata": {},
   "outputs": [],
   "source": [
    "# this is a comment\n",
    "# any line starting with the hash symbol '#' is a comment.\n",
    "# the '#' can be anywhere in a line: Python will ignore the rest of the line\n",
    "# some numbers and math:\n",
    "x = 5 * 6.\n",
    "print(x)\n",
    "y = 2\n",
    "z = y**x  # the exponentiation operator\n",
    "print(z)\n",
    "x1 = 1.3e-5  # a number in scientific notation\n",
    "print(x1,y,z)\n",
    "i = 10\n",
    "j = 3\n",
    "n = i*j\n",
    "# print(n)"
   ]
  },
  {
   "cell_type": "markdown",
   "metadata": {},
   "source": [
    "In these expressions the equals sign <font color='red'>=</font> is the assigmment operator. <font color='red'>=</font> can be read as 'set equal to'. If the variable on the left hand side (lhs) of an assigment does not exist, Python creates the variable, setting the type (integer or float) to match the right hand side (rhs). This is called implicit typing. If the variable on the lhs exists, it needs to match the type of the rhs."
   ]
  },
  {
   "cell_type": "code",
   "execution_count": null,
   "metadata": {
    "scrolled": true
   },
   "outputs": [],
   "source": [
    "#i5 = 10\n",
    "x = i5\n",
    "# uncomment the first line in the cell and re-run to clear error"
   ]
  },
  {
   "cell_type": "markdown",
   "metadata": {},
   "source": [
    "An error because i5 is undefined. Before using a variable on the right hand side of\n",
    "an assigment, it must be explicitly defined, \n",
    "or have appeared on the left hand side of a previous assignment statement\n",
    "\n",
    "\n",
    "#### Programming tips:\n",
    "Put plenty of comments in your code\n",
    "\n",
    "Put plenty of print statements in your code"
   ]
  },
  {
   "cell_type": "markdown",
   "metadata": {},
   "source": [
    "#### More basic math\n",
    "Python provides three operators for division, / // and %"
   ]
  },
  {
   "cell_type": "code",
   "execution_count": null,
   "metadata": {
    "scrolled": true
   },
   "outputs": [],
   "source": [
    "# regular division\n",
    "k = i/j\n",
    "print(k)\n",
    "#\n",
    "# if you want to do integer division, the // operator gives the quotient:\n",
    "n = i//j\n",
    "print(n)\n",
    "#\n",
    "# the % operator (modulo division) gives the remainder\n",
    "n = i%j\n",
    "print(n)"
   ]
  },
  {
   "cell_type": "code",
   "execution_count": null,
   "metadata": {
    "scrolled": false
   },
   "outputs": [],
   "source": [
    "x = -2\n",
    "y = abs(x)\n",
    "print(x,y)\n",
    "print(max(x,y))\n",
    "print(min(x,y))"
   ]
  },
  {
   "cell_type": "markdown",
   "metadata": {},
   "source": [
    "print(), abs(), min() and max() are examples of built-in functions.  The parentheses tell Python that it is a function. Inside the parentheses may be one or more variables or python objects, separated by commas. These are known as the arguments. Some functions may have no arguments. Functions always return a value. "
   ]
  },
  {
   "cell_type": "code",
   "execution_count": null,
   "metadata": {
    "scrolled": true
   },
   "outputs": [],
   "source": [
    "#x = sin(5.)"
   ]
  },
  {
   "cell_type": "markdown",
   "metadata": {},
   "source": [
    "#### More advanced math, trigonometry functions"
   ]
  },
  {
   "cell_type": "code",
   "execution_count": null,
   "metadata": {},
   "outputs": [],
   "source": [
    "# more advanced math- we need to import the math package - more on packages later\n",
    "# python has a full set of math operators and functions\n",
    "import math\n",
    "z = math.sqrt(4.)\n",
    "print(z)\n",
    "w = math.log(2.)\n",
    "print(w)\n",
    "y = math.sin(math.pi/4.)\n",
    "print(y)\n",
    "arg = 2.3\n",
    "x = math.acosh(arg)\n",
    "print(x)"
   ]
  },
  {
   "cell_type": "code",
   "execution_count": null,
   "metadata": {},
   "outputs": [],
   "source": [
    "# Cool: Python can tell you what is in a package- uncomment the next two lines and run this cell\n",
    "# import math\n",
    "#dir(math)"
   ]
  },
  {
   "cell_type": "markdown",
   "metadata": {},
   "source": [
    "Note we had to prefix the name of the function with the package name and a period: math.xxx. If this gets tedious:"
   ]
  },
  {
   "cell_type": "code",
   "execution_count": null,
   "metadata": {},
   "outputs": [],
   "source": [
    "#\n",
    "# abbreviate 'math' to 'm'\n",
    "#import math as m\n",
    "y = m.sin(m.pi/4.)\n",
    "print(y)\n",
    "#\n",
    "# omit package name altogether - warning if we already have functions with the same name as in the math package\n",
    "# they will be replaced. \n",
    "# that's why using the package name as a prefix is the default \n",
    "from math import *\n",
    "x = sin(pi/6.)\n",
    "print(x)\n",
    "#dir(m)"
   ]
  },
  {
   "cell_type": "markdown",
   "metadata": {},
   "source": [
    "#### Recap: the import command\n",
    "The import command has four forms. Using the math package as an example: <br>\n",
    "import math <br>\n",
    "import math as m <br>\n",
    "from math import * <br>\n",
    "from math import sin <br>"
   ]
  },
  {
   "cell_type": "markdown",
   "metadata": {
    "collapsed": true
   },
   "source": [
    "#### Assignment P1a: coding up equations\n",
    "\n",
    "Write python code to evaluate the Poisson and Gaussian functions. Once you have them coded up, play around with different values of the variables and parameters\n",
    "\n",
    "Notes: \n",
    "\n",
    "i) In coding up math expressions there are rules of precedence, just like in algebra. If in doubt, use the One Rule That Rules Them All: Parentheses!\n",
    "\n",
    "ii) import and correctly use the math package if necessary\n",
    "\n",
    "iii) To check your code you'll have to assign values to all parameters and variables before executing the cells. For example to code up \n",
    "$y = x^2$:"
   ]
  },
  {
   "cell_type": "code",
   "execution_count": null,
   "metadata": {
    "scrolled": true
   },
   "outputs": [],
   "source": [
    "x = 3\n",
    "y = x**2\n",
    "print(x,y)\n",
    "x = 2\n",
    "y = x**2\n",
    "print(x,y)"
   ]
  },
  {
   "cell_type": "markdown",
   "metadata": {},
   "source": [
    "Code up the Poisson Function\n",
    "\n",
    "$ \\frac{ \\lambda^N e^{-\\lambda}}{N!} $\n",
    "\n",
    "and evaluate this for $\\lambda = 5$ and $N=2, N=3$"
   ]
  },
  {
   "cell_type": "code",
   "execution_count": null,
   "metadata": {},
   "outputs": [],
   "source": [
    "# put poisson function code in this cell"
   ]
  },
  {
   "cell_type": "markdown",
   "metadata": {},
   "source": [
    "## Code up the Gaussian function\n",
    "\n",
    "$\\frac{1}{\\sqrt{2 \\pi \\sigma^2}}e^{-(x - \\mu)^2/2 \\sigma^2}$\n",
    "\n",
    "and evaluate it for $\\mu=1, \\sigma=2, x=4.92$"
   ]
  },
  {
   "cell_type": "code",
   "execution_count": null,
   "metadata": {},
   "outputs": [],
   "source": [
    "# put gaussian function code in this cell"
   ]
  },
  {
   "cell_type": "markdown",
   "metadata": {},
   "source": [
    "#### Assignment P1b: reading Python code\n",
    "re-write the Python mathematical expressions for beta_fcn and gamma_fcn in standard math notation\n"
   ]
  },
  {
   "cell_type": "code",
   "execution_count": null,
   "metadata": {},
   "outputs": [],
   "source": [
    "from math import exp\n",
    "#\n",
    "a = 2; b = 3; p = 0.5\n",
    "beta_fcn = p**(a-1)*(1. - p)**(b-1)\n",
    "print(beta_fcn)\n",
    "#\n",
    "x = 3.; alpha = 1; beta = 1.5\n",
    "gamma_fcn = x**(alpha-1) * exp(-beta*x)\n",
    "print(gamma_fcn)\n"
   ]
  },
  {
   "cell_type": "markdown",
   "metadata": {
    "collapsed": true
   },
   "source": []
  },
  {
   "cell_type": "code",
   "execution_count": null,
   "metadata": {},
   "outputs": [],
   "source": []
  }
 ],
 "metadata": {
  "anaconda-cloud": {},
  "kernelspec": {
   "display_name": "Python 3 (ipykernel)",
   "language": "python",
   "name": "python3"
  },
  "language_info": {
   "codemirror_mode": {
    "name": "ipython",
    "version": 3
   },
   "file_extension": ".py",
   "mimetype": "text/x-python",
   "name": "python",
   "nbconvert_exporter": "python",
   "pygments_lexer": "ipython3",
   "version": "3.7.10"
  }
 },
 "nbformat": 4,
 "nbformat_minor": 1
}
