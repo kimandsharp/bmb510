{
 "cells": [
  {
   "cell_type": "markdown",
   "metadata": {},
   "source": [
    "# Python Basics. Part V."
   ]
  },
  {
   "cell_type": "markdown",
   "metadata": {},
   "source": [
    "## Functions, defs and modules\n",
    "Python has a large number of built in functions. We have seen some of them already: len(), min(), max(), abs()"
   ]
  },
  {
   "cell_type": "code",
   "execution_count": null,
   "metadata": {},
   "outputs": [],
   "source": [
    "#\n",
    "# uncomment the following and run:\n",
    "#dir(__builtins__)"
   ]
  },
  {
   "cell_type": "markdown",
   "metadata": {},
   "source": [
    "Other functions are contained in the math package and other Python packages. They are accessed using the import statement. You may also write your own functions:"
   ]
  },
  {
   "cell_type": "code",
   "execution_count": null,
   "metadata": {},
   "outputs": [],
   "source": [
    "def times10(x):\n",
    "    \"\"\"\n",
    "    function to multiply a float by ten. kas dec 2017\n",
    "    \"\"\"\n",
    "    y = 10*x\n",
    "    return y\n",
    "#\n",
    "def divby3(n):\n",
    "    \"\"\"\n",
    "    checks whether integer is divisible by three\n",
    "    \"\"\"\n",
    "    i = n % 3\n",
    "    if(i == 0):\n",
    "        return True\n",
    "    else:\n",
    "        return False"
   ]
  },
  {
   "cell_type": "markdown",
   "metadata": {},
   "source": [
    "A python function starts with the keyword <font color='blue'>def</font> (short for definition. Functions are often referred to as 'defs' by Python programmers.) This is followed by the name, parentheses and a colon. Then follows the body of the def, indented one level. Code in the body must be further indented as required by Python's syntax. Good practice has the body start with a triple quoted comment section explaining the def, just like Python source code files. A function may or may not take arguments. In the examples, the two defs each have a single argument. The return keyword is used to specify what is returned to the calling program. \n",
    "\n",
    "In the following cell, write the code to call times10 with the values 1., 3., and 4., and print the results"
   ]
  },
  {
   "cell_type": "markdown",
   "metadata": {},
   "source": [
    "in the following cell, write the code to input an integer from the keyboard, call divby3, and print the result"
   ]
  },
  {
   "cell_type": "code",
   "execution_count": null,
   "metadata": {},
   "outputs": [],
   "source": [
    "# code here"
   ]
  },
  {
   "cell_type": "markdown",
   "metadata": {},
   "source": [
    "##### Where does the code for defs go?\n",
    "Python is an interpreted language, not a compiled one. This means that Python executes the code as it reads the source file. So the code for a def must appear before it is used. Typically defs are organized in one of two ways:\n",
    "\n",
    "i) Placed at the top of the source code file that needs them, right after the triple quoted comment block. The def can then be used in any of the following code in the same source file. The def would not be available to code outside this source file.\n",
    "\n",
    "ii) defs are placed in a separate source code file. They must then be read by the code that needs them using the import command, just like Pythons built-in packages. If for example the defs times10 and divby3 are put in a source file called mydefs.py, then they can be imported using the command\n",
    "\n",
    "import mydefs\n",
    "\n",
    "and used like \n",
    "\n",
    "x = mydefs.times10(5.)\n",
    "\n",
    "or\n",
    "\n",
    "from mydefs import *\n",
    "\n",
    "x = times10(10.)\n",
    "\n",
    "#### Gotcha Note: Don't add the .py filetype extension in the import statement!\n",
    "\n",
    "#### Typically related defs are bundled in the same source file. \n",
    "defs organized in this way are also called modules or packages. This is how one re-uses and shares Python code. 'Global variables' can also usefully be placed in a module file - Above any defs that need them, of course. These global variables will then be defined for any Python program that imports that module. Global variables, following the convention of the C language, are usually capitalized:\n",
    "\n",
    "NSIZE = 100\n",
    "\n",
    "OSNAME = 'Linux' \n",
    "\n",
    "etc\n",
    "\n",
    "For now keep any module files in the same directory as the code that needs them. Later you can learn where module files should be kept, and how to tell Python where to look for them.\n",
    "\n",
    "\n",
    "\n",
    "#### Assignment P3\n",
    "write the code for times10 and divby3 into a suitable source file with the *.py extension, then in another *.py file write the source code to import them, use them and print the results \n",
    "\n"
   ]
  },
  {
   "cell_type": "code",
   "execution_count": null,
   "metadata": {},
   "outputs": [],
   "source": []
  }
 ],
 "metadata": {
  "anaconda-cloud": {},
  "kernelspec": {
   "display_name": "Python 3 (ipykernel)",
   "language": "python",
   "name": "python3"
  },
  "language_info": {
   "codemirror_mode": {
    "name": "ipython",
    "version": 3
   },
   "file_extension": ".py",
   "mimetype": "text/x-python",
   "name": "python",
   "nbconvert_exporter": "python",
   "pygments_lexer": "ipython3",
   "version": "3.7.10"
  }
 },
 "nbformat": 4,
 "nbformat_minor": 1
}
