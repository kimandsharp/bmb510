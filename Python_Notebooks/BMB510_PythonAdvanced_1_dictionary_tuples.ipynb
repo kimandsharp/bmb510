{
 "cells": [
  {
   "cell_type": "markdown",
   "metadata": {},
   "source": [
    "# Python. More advanced topics\n",
    "## Tuples and Dictionaries\n",
    "### Tuples\n",
    "Tuples are a flexible way of storing data that behave a lot like lists. \n",
    "\n"
   ]
  },
  {
   "cell_type": "code",
   "execution_count": null,
   "metadata": {
    "scrolled": false
   },
   "outputs": [],
   "source": [
    "# create a tuple: the parens () tell Python it is a tuple vs. brackets [] for a list\n",
    "# can put any Python objects in a tuple\n",
    "myTuple = ('a string element',5,10.3)\n",
    "print(myTuple)\n",
    "#\n",
    "# A tuple is a sequence object. Accessing elements of a tuple by indexing is identical to string and list indexing:\n",
    "x = myTuple[1]\n",
    "print(myTuple[0],myTuple[0:2],myTuple[-1])\n"
   ]
  },
  {
   "cell_type": "code",
   "execution_count": null,
   "metadata": {},
   "outputs": [],
   "source": [
    "# uncomment and run\n",
    "#myTuple[0] = 'different string'"
   ]
  },
  {
   "cell_type": "code",
   "execution_count": null,
   "metadata": {},
   "outputs": [],
   "source": [
    "# uncomment and run\n",
    "#myTuple1 = ()\n",
    "#myTuple1.append(1.)"
   ]
  },
  {
   "cell_type": "markdown",
   "metadata": {},
   "source": [
    "Once a tuple is created, any attempt to change it gives an error. The tuple has none of the methods that alter lists. This inability to alter a tuple once created is the big difference between it and a list. The only way to 'change' a tuple is to recreate it:"
   ]
  },
  {
   "cell_type": "code",
   "execution_count": null,
   "metadata": {},
   "outputs": [],
   "source": [
    "#\n",
    "myTuple = (5,1.,'a different thing')\n",
    "print(myTuple)"
   ]
  },
  {
   "cell_type": "markdown",
   "metadata": {},
   "source": [
    "### Dictionaries\n",
    "Dictionaries are a powerful and flexible way of storing and accessing data in Python. Unlike strings, lists and tuples, dictionaries are not sequence objects -- the elements are not stored in a fixed order. Instead, data is stored and accessed using something called a key. The syntax for creating an entry is\n",
    "\n",
    "'key_string':python_object\n",
    "\n",
    "This is known as a key:value or key:data pair. The key is a string variable. The data element can be any Python object: a number, a string, a list, etc., even another dictionary.\n",
    "\n",
    "For example"
   ]
  },
  {
   "cell_type": "code",
   "execution_count": null,
   "metadata": {},
   "outputs": [],
   "source": [
    "# create a dictionary. Upon creation, the braces {} distinguish a dictionary from a list or tuple.\n",
    "RomanNumerals = {'M':1000,'C':100,'V':5}"
   ]
  },
  {
   "cell_type": "markdown",
   "metadata": {},
   "source": [
    "In this example, The dictionary has three entries, or data elements. The Python objects being stored are three integers, 1000, 100 and 5. They are stored by the key strings 'M', 'C' and 'V', respectively."
   ]
  },
  {
   "cell_type": "code",
   "execution_count": null,
   "metadata": {},
   "outputs": [],
   "source": [
    "# You access the data in a dictionary using the key:\n",
    "print(RomanNumerals['C'])\n",
    "entry = RomanNumerals['M']\n",
    "print(entry)\n",
    "#uncomment and run cell\n",
    "#print(RomanNumerals['L'])"
   ]
  },
  {
   "cell_type": "markdown",
   "metadata": {},
   "source": [
    "If you request a dictionary element using a non-existent key then you will get an error. Instead, test for the existence of the key"
   ]
  },
  {
   "cell_type": "code",
   "execution_count": null,
   "metadata": {},
   "outputs": [],
   "source": [
    "if('L' in RomanNumerals):\n",
    "    print('Roman numeral L stands for', RomanNumerals['L'])\n",
    "else:\n",
    "    print('key not found')\n",
    "    # adding a new entry is easy, assign a value to the key:\n",
    "    # note that brackets [] are used to enclose the key\n",
    "    RomanNumerals['L'] = 50    \n",
    "    print('Added entry for L:', RomanNumerals['L'])\n"
   ]
  },
  {
   "cell_type": "code",
   "execution_count": null,
   "metadata": {},
   "outputs": [],
   "source": [
    "# you can creat an empty dictionary and add entries later\n",
    "GermanNumbers = {}\n",
    "GermanNumbers['Zwei'] = 2\n",
    "GermanNumbers['Drei'] = 3\n",
    "GermanNumbers['Ein'] = 1\n",
    "GermanNumbers['Zero'] = 0\n",
    "GermanNumbers['Eine'] = 1\n",
    "GermanNumbers['Funf'] = 4"
   ]
  },
  {
   "cell_type": "code",
   "execution_count": null,
   "metadata": {},
   "outputs": [],
   "source": [
    "# delete an entry\n",
    "del GermanNumbers['Zero']  # Zero is not the German word!\n",
    "GermanNumbers['Null'] = 0\n",
    "# change entries\n",
    "GermanNumbers['Funf'] = 'Five'  # My German needs work!\n",
    "GermanNumbers['Vier'] = 4\n",
    "print('Funf is ',GermanNumbers['Funf'],' in German')"
   ]
  },
  {
   "cell_type": "code",
   "execution_count": null,
   "metadata": {},
   "outputs": [],
   "source": [
    "l1 = [1,2,3,4,5]\n",
    "print(l1)\n",
    "del l1[2]\n",
    "print(l1)"
   ]
  },
  {
   "cell_type": "markdown",
   "metadata": {},
   "source": [
    "It is usually not useful to print the contents of a dictionary, but you can do it if you insist"
   ]
  },
  {
   "cell_type": "code",
   "execution_count": null,
   "metadata": {},
   "outputs": [],
   "source": [
    "print(GermanNumbers)\n",
    "# note that the entries will be in some arbitrary (to you) order that has \n",
    "# nothing to do with the order in which they were entered or the values of the data"
   ]
  },
  {
   "cell_type": "markdown",
   "metadata": {},
   "source": [
    "Probably more useful is looping through every entry. There are two ways, using the dictionary methods .items() or .keys()"
   ]
  },
  {
   "cell_type": "code",
   "execution_count": null,
   "metadata": {
    "scrolled": true
   },
   "outputs": [],
   "source": [
    "for k,v in GermanNumbers.items():\n",
    "    print(k,v)"
   ]
  },
  {
   "cell_type": "code",
   "execution_count": null,
   "metadata": {
    "scrolled": true
   },
   "outputs": [],
   "source": [
    "for key in GermanNumbers.keys():\n",
    "    print(key, GermanNumbers[key])"
   ]
  },
  {
   "cell_type": "markdown",
   "metadata": {},
   "source": [
    "###### Assignment\n",
    "Using a dictionary, write a program that will translate an arbitrary year written in Roman numerals into Arabic numerals (decimal). For example MLXVI == 1066AD"
   ]
  }
 ],
 "metadata": {
  "anaconda-cloud": {},
  "kernelspec": {
   "display_name": "Python 3 (ipykernel)",
   "language": "python",
   "name": "python3"
  },
  "language_info": {
   "codemirror_mode": {
    "name": "ipython",
    "version": 3
   },
   "file_extension": ".py",
   "mimetype": "text/x-python",
   "name": "python",
   "nbconvert_exporter": "python",
   "pygments_lexer": "ipython3",
   "version": "3.7.10"
  }
 },
 "nbformat": 4,
 "nbformat_minor": 2
}
