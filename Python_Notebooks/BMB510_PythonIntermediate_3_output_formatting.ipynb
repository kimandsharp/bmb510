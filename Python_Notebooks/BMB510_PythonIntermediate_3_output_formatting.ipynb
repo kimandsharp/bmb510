{
 "cells": [
  {
   "cell_type": "markdown",
   "metadata": {},
   "source": [
    "# Python Basics. Part VIII.\n",
    "## Writing to a file and formatted output\n",
    "\n",
    "Remember that all input and output is done thru text strings. The first step is to format whatever you want to output. The second step is to write it to the terminal, a text file, or both. Each variable type: int, float, string etc. has its own formatting specifiers. Formatted output is particularly used to write data to a file which is going to be read in by another program. \n",
    "\n",
    "Controlling output is a messy part of computer programming. It is easiest to learn by example. Only a few of the many options are given.\n",
    "\n",
    "### integers"
   ]
  },
  {
   "cell_type": "code",
   "execution_count": null,
   "metadata": {},
   "outputs": [],
   "source": [
    "#\n",
    "i = -1\n",
    "j = 2\n",
    "k = 3\n",
    "#\n",
    "# version one: include all text, variables and formmatting in the argument to the print function:\n",
    "print('default format for integers  : %d  %d   %d\\n' % (i,j,k))\n",
    "#\n",
    "# version two: create temporary text string (often called a string buffer, or an i/o buffer). \n",
    "st_temp1 = 'default format for integers  : %d  %d   %d\\n' % (i,j,k)\n",
    "# then print the string\n",
    "print(st_temp1)\n",
    "#\n",
    "# use 5 columns for each integer. left justify, and force printing of sign\n",
    "st_temp2 = 'controlling number of columns: %5d  %-5d   %-+5d\\n' % (i,j,k)\n",
    "print(st_temp2)"
   ]
  },
  {
   "cell_type": "markdown",
   "metadata": {},
   "source": [
    "### floats"
   ]
  },
  {
   "cell_type": "code",
   "execution_count": null,
   "metadata": {},
   "outputs": [],
   "source": [
    "from math import pi\n",
    "x = pi*1.e10\n",
    "y = 1/3\n",
    "z = pi\n",
    "st_temp3 = 'default format for floats  : %f  %f   %f\\n' % (x,y,z)\n",
    "print(st_temp3)\n",
    "#\n",
    "# use 12 columns for each integer, print 5 digits after decimal point, left justify, and force printing of sign\n",
    "st_temp4 = 'controlling number of columns: %12.5g  %-12.5f   %-+12.5f\\n' % (x,y,z)\n",
    "print(st_temp4)"
   ]
  },
  {
   "cell_type": "markdown",
   "metadata": {},
   "source": [
    "### a mix of variable types"
   ]
  },
  {
   "cell_type": "code",
   "execution_count": null,
   "metadata": {},
   "outputs": [],
   "source": [
    "st = 'twelve'\n",
    "st_temp5 = '%s   %6d     %12.5f\\n' % (st,i,x)\n",
    "print(st_temp5)"
   ]
  },
  {
   "cell_type": "markdown",
   "metadata": {},
   "source": [
    "### details of the format statement\n",
    "\n",
    "The general format statement has four parts. \n",
    "\n",
    "1) A template string delimited by '' just like a regular text string.\n",
    "\n",
    "2) Embedded in the template string are one or more format specifiers, each starting with % and ending with a letter that indicates the variable type: s (string)  d (decimal integer) f (float). optional items in between include the column width, and other format instructions that depend on the variable type.\n",
    "\n",
    "3) After the template string comes the % operator. This tells Python to do formatting.\n",
    "\n",
    "4) Finally () encloses the list of variables to be outputted --  the number and type must correspond to those in the template string\n",
    "\n",
    "The format statement returns a string variable. Note that any text in the template string that is not part of the format specifier(s) is part of the output string, including any spaces!  If you don't want spaces you have to jam the the specifiers together. Illustrated here by re-using the last example."
   ]
  },
  {
   "cell_type": "code",
   "execution_count": null,
   "metadata": {},
   "outputs": [],
   "source": [
    "st = 'twelve'\n",
    "st_temp5 = '%s%6d%+12.5f\\n' % (st,i,x)\n",
    "print(st_temp5)"
   ]
  },
  {
   "cell_type": "markdown",
   "metadata": {},
   "source": [
    "### Writing to a file"
   ]
  },
  {
   "cell_type": "code",
   "execution_count": null,
   "metadata": {},
   "outputs": [],
   "source": [
    "# get name of file\n",
    "filename = input('enter output file name>> ')\n",
    "#\n",
    "# open file for writing, and create the file 'handle'\n",
    "file_out = open(filename,'w')\n",
    "#\n",
    "# here we simply re-use our buffer strings.\n",
    "file_out.write(st_temp1)\n",
    "file_out.write(st_temp2)\n",
    "file_out.write(st_temp3)\n",
    "file_out.write(st_temp4)\n",
    "file_out.write(st_temp5)\n",
    "file_out.write('all done!')\n",
    "#\n",
    "file_out.close()"
   ]
  },
  {
   "cell_type": "code",
   "execution_count": null,
   "metadata": {},
   "outputs": [],
   "source": []
  }
 ],
 "metadata": {
  "anaconda-cloud": {},
  "kernelspec": {
   "display_name": "Python 3 (ipykernel)",
   "language": "python",
   "name": "python3"
  },
  "language_info": {
   "codemirror_mode": {
    "name": "ipython",
    "version": 3
   },
   "file_extension": ".py",
   "mimetype": "text/x-python",
   "name": "python",
   "nbconvert_exporter": "python",
   "pygments_lexer": "ipython3",
   "version": "3.7.10"
  }
 },
 "nbformat": 4,
 "nbformat_minor": 1
}
