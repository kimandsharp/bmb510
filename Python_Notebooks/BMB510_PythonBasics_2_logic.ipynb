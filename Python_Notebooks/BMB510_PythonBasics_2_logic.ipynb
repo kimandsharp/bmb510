{
 "cells": [
  {
   "cell_type": "markdown",
   "metadata": {},
   "source": [
    "# Python Basics. Part Ib"
   ]
  },
  {
   "cell_type": "markdown",
   "metadata": {},
   "source": [
    "## Logic in Python"
   ]
  },
  {
   "cell_type": "markdown",
   "metadata": {},
   "source": [
    "True/False logic is used all over the place in EVERY computer program to control the program flow. Program logic is based on three components, applied in order: relational operators -> logical operators -> logical tests\n",
    "\n",
    "#### relational operators for numbers\n",
    "less than:  <    \n",
    "\n",
    "greater than:  >    \n",
    "\n",
    "less than or equal to:  <=   \n",
    "\n",
    "greater than or equal to:   >=\n",
    "\n",
    "#### the relational operators for \"equals\" and \"not equals\"\n",
    "equal to (note double equal signs!): ==  \n",
    "\n",
    "#### Note difference from the assignment operator, a single \"=\"  !\n",
    "\n",
    "not equal to:   !=\n"
   ]
  },
  {
   "cell_type": "code",
   "execution_count": null,
   "metadata": {
    "scrolled": true
   },
   "outputs": [],
   "source": [
    "i = 3\n",
    "j = 3\n",
    "k = 3\n",
    "#\n",
    "l1 = (i<j)\n",
    "# \n",
    "# The result of a relational operator is one of two Boolean variables:\n",
    "# True or False\n",
    "#\n",
    "print('i less than j is: ',l1)\n",
    "print('greater than: ',i > k)\n",
    "print('not equal to: ',j == 4)\n",
    "#\n",
    "# Boolean variables can be combined using the logical operators: and, or, not\n",
    "l3 = (i<10) and (i == k)\n",
    "print(l3, not l3)\n",
    "l3 = (i>10) or (i == k)\n",
    "print(l3)"
   ]
  },
  {
   "cell_type": "code",
   "execution_count": null,
   "metadata": {},
   "outputs": [],
   "source": [
    "#  Unlike the other math relational operators == and != can be used on other data types\n",
    "# For example \n",
    "print(\"abcde\" == \"Abcde\")\n",
    "print(\"abcde\" != \"Abcde\")"
   ]
  },
  {
   "cell_type": "markdown",
   "metadata": {
    "collapsed": true
   },
   "source": [
    "### Logical tests"
   ]
  },
  {
   "cell_type": "code",
   "execution_count": null,
   "metadata": {},
   "outputs": [],
   "source": [
    "i = 9\n",
    "if(i < 10):\n",
    "    print('i is less than 10')\n",
    "else:\n",
    "    print('i is not less than 10')"
   ]
  },
  {
   "cell_type": "code",
   "execution_count": null,
   "metadata": {},
   "outputs": [],
   "source": [
    "#\n",
    "# as a convenience, in logical testing Python interprets the integer\n",
    "# 0 as False, and a non zero integer as True. But be careful using this feature!\n",
    "i = 0\n",
    "if(i):\n",
    "    print('i equals True')\n",
    "else:\n",
    "    print('i equals False')"
   ]
  },
  {
   "cell_type": "markdown",
   "metadata": {},
   "source": [
    "#### Program Control and code blocks\n",
    "Logical tests are mostly used to control program flow. We have just used one of Python's three major program control elements: the if/else construct. Notice the indentation: This is a formal part of Python's language and must be obeyed!\n",
    "\n",
    "#### A code block is\n",
    "a set of consecutive lines of code with the SAME level of indentation. A code block is ended when a line of code with one less indentation is reached. The amount of indentation does not matter, as long as it is the same. 4 spaces or 2 spaces are common."
   ]
  },
  {
   "cell_type": "code",
   "execution_count": null,
   "metadata": {},
   "outputs": [],
   "source": [
    "i = 10\n",
    "if(i < 10):\n",
    "    # when the if statement evaluates to True, execute this code block\n",
    "    # everything has to be at the same level \n",
    "    # of indentation\n",
    "    print('executing code block 1')\n",
    "    print('i is less than 10')\n",
    "else:\n",
    "    # when the if statement is false, execute this code block\n",
    "    print('executing code block 2')\n",
    "    print('i is not less than 10')\n",
    "print('not part of if construct') # this line is one level less indented. it does not belong to the else code block"
   ]
  },
  {
   "cell_type": "markdown",
   "metadata": {},
   "source": [
    "### Controlling program flow with <font color='red'>if</font>\n",
    "The if statement comes in three different flavors, implemented by the three Python statements: if, else and elif. \n",
    "Remember to end each with a colon!"
   ]
  },
  {
   "cell_type": "code",
   "execution_count": null,
   "metadata": {},
   "outputs": [],
   "source": [
    "#\n",
    "i = 10\n",
    "# no else clause\n",
    "if(i == 10):\n",
    "    print('form one')\n",
    "#\n",
    "# with else clause\n",
    "if(i == 10):\n",
    "    print('form 2, true branch')\n",
    "else:\n",
    "    print('form 2, false branch')\n",
    "# \n",
    "# with elif clause(s)- as many as we need!\n",
    "j = 4\n",
    "if(j == 2):\n",
    "    print('j is 2')\n",
    "elif(j == 3):\n",
    "    print('j is 3')\n",
    "elif(j == 4):\n",
    "    print('j is 4')\n",
    "else:\n",
    "    print('optional else clause: j is none of the above')\n"
   ]
  },
  {
   "cell_type": "code",
   "execution_count": null,
   "metadata": {},
   "outputs": [],
   "source": [
    "# \n",
    "# if we only have a single statement in any branch of an if statement we can put it on same line:\n",
    "j = 4\n",
    "if(j == 2):   print('j is 2')\n",
    "elif(j == 3): print('j is 3')\n",
    "elif(j == 4): print(\"j is 4\")\n",
    "else:         print('optional else clause: j is none of the above')"
   ]
  },
  {
   "cell_type": "code",
   "execution_count": null,
   "metadata": {},
   "outputs": [],
   "source": []
  }
 ],
 "metadata": {
  "anaconda-cloud": {},
  "kernelspec": {
   "display_name": "Python 3 (ipykernel)",
   "language": "python",
   "name": "python3"
  },
  "language_info": {
   "codemirror_mode": {
    "name": "ipython",
    "version": 3
   },
   "file_extension": ".py",
   "mimetype": "text/x-python",
   "name": "python",
   "nbconvert_exporter": "python",
   "pygments_lexer": "ipython3",
   "version": "3.7.10"
  }
 },
 "nbformat": 4,
 "nbformat_minor": 1
}
