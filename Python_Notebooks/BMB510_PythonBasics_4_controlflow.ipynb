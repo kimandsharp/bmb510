{
 "cells": [
  {
   "cell_type": "markdown",
   "metadata": {},
   "source": [
    "# Python Basics. III\n",
    "'Follow the \"Law of Least Astonishment\" - your program should behave in a way that least astonishes the user'- Steve Oualline"
   ]
  },
  {
   "cell_type": "markdown",
   "metadata": {},
   "source": [
    "## Program Control and flow\n",
    "Writing computer code is largely about controlling the flow of the program: what statements are executed and when. The big three of Python's program control are: \n",
    "\n",
    "i) the <font color='red'>if/else/elif</font>  construct  \n",
    "\n",
    "ii) the <font color='red'>for</font> loop \n",
    "\n",
    "iii) the <font color='red'>while</font> loop.\n",
    "\n",
    "### <font color='red'>for</font> loops"
   ]
  },
  {
   "cell_type": "code",
   "execution_count": null,
   "metadata": {},
   "outputs": [],
   "source": [
    "#\n",
    "# iterate over all members. 'for' and 'in' are Python operators\n",
    "l1 = [10,30,20,'string',10]\n",
    "for i in l1:\n",
    "    # everything in the indented code block is executed every loop\n",
    "    print(i)"
   ]
  },
  {
   "cell_type": "code",
   "execution_count": null,
   "metadata": {},
   "outputs": [],
   "source": [
    "#\n",
    "# use the range function \n",
    "l2 = [10.5, 7.1, 6.2, 8.5, 1.001,1e-3,3.4]\n",
    "for i in range(len(l2)):  # if we use len(), will work however long l2 is\n",
    "    # integer i is what's called a dummy variable- it has a new value every time thru\n",
    "    # and it is used as an index\n",
    "    l2[i] = l2[i]*i\n",
    "print(l2)\n",
    "l3 = []\n",
    "#\n",
    "# control the start, stop and increment\n",
    "for i in range(1,len(l2),2):\n",
    "    print(i)\n",
    "    l2[i] = -1.\n",
    "    l3.append(5.*1)\n",
    "print(i)\n",
    "print(l2)\n",
    "print(l3)"
   ]
  },
  {
   "cell_type": "markdown",
   "metadata": {},
   "source": [
    "for loops can be nested. A common use is to operate on 2-dimensional arrays ( lists of lists), for example doing matrix operations"
   ]
  },
  {
   "cell_type": "code",
   "execution_count": null,
   "metadata": {},
   "outputs": [],
   "source": [
    "#\n",
    "# a list of lists can be used to represent a 2-dimensional array, like a matrix\n",
    "matrix1 = [[0.,-1.],[-1., 0.]]\n",
    "matrix2 = [[0.,-1.],[-1., 1.]]\n",
    "matrix3 = [[0.,0.],[0.,0.]]\n",
    "print('matrix1')\n",
    "for i in range(2):\n",
    "    print(matrix1[i])\n",
    "print('matrix2')\n",
    "for i in range(2):\n",
    "    print(matrix2[i])\n",
    "#\n",
    "# add the matrices using 2 nested for loops\n",
    "# 1st index i refers to element of list of list, which is a list. 2nd index j refers to element of list itself\n",
    "for i in range(2):\n",
    "    for j in range(2):\n",
    "        print(i,j)\n",
    "        matrix3[i][j] = matrix1[i][j] + matrix2[i][j] #second level of indentation\n",
    "print('matrix3')\n",
    "for i in range(2):\n",
    "    print(matrix3[i])"
   ]
  },
  {
   "cell_type": "markdown",
   "metadata": {},
   "source": [
    "a more complicated example of a for loop, combining it with if/else:"
   ]
  },
  {
   "cell_type": "code",
   "execution_count": null,
   "metadata": {},
   "outputs": [],
   "source": [
    "import math\n",
    "l4 = [1., -1., 2., -2., 3., 4., 10.]\n",
    "for i in range(len(l4)):\n",
    "    if(l4[i] >= 0.):\n",
    "        l4_sqrt = math.sqrt(l4[i])\n",
    "        print (l4_sqrt)\n",
    "    else:\n",
    "        print('cannot take sqrt of -ve number: ',l4[i])"
   ]
  },
  {
   "cell_type": "markdown",
   "metadata": {
    "collapsed": true
   },
   "source": [
    "#### More on for loops\n",
    "The <font color='red'>break</font> and <font color='red'>continue</font> commands can be combined with for loops for additional control. The break command will immediately exit the for loop controlling that code block. The continue command will skip the rest of the code block in the for loop, and go on to the next iteration of that loop "
   ]
  },
  {
   "cell_type": "code",
   "execution_count": null,
   "metadata": {},
   "outputs": [],
   "source": [
    "import math\n",
    "l4 = [1., -1., 2., -2., 3., 4., 10.]\n",
    "for i in range(len(l4)):\n",
    "    if(l4[i] < 0.):\n",
    "        continue\n",
    "    l4_sqrt = math.sqrt(l4[i])  # this statement and below in code block skipped when if statement evaluates as True\n",
    "    print (l4_sqrt)"
   ]
  },
  {
   "cell_type": "code",
   "execution_count": null,
   "metadata": {},
   "outputs": [],
   "source": [
    "import math\n",
    "l4 = [1., -1., 2., -2., 3., 4., 10.]\n",
    "for i in range(len(l4)):\n",
    "    if(l4[i] < 0.):\n",
    "        print('breaking')\n",
    "        break  # when if statement evaluates as True, skip rest of code block and exit loop\n",
    "    l4_sqrt = math.sqrt(l4[i])\n",
    "    print (l4_sqrt)\n",
    "print('finished with for loop')"
   ]
  },
  {
   "cell_type": "markdown",
   "metadata": {},
   "source": [
    "### The <font color='red'>while</font> loop\n",
    "used to loop for an unspecified number of times, until the <font color='red'>while</font> statment evaluates as False. A while loop usually consist of four parts: i) initialization ii) the while test iii) the code block controlled by the while construct iv) termination: some statements inside the code block that will eventually cause the while statement to evaluate to False. Failure of this part of the code will cause an <font color='green'>infinite</font> loop!"
   ]
  },
  {
   "cell_type": "code",
   "execution_count": null,
   "metadata": {
    "scrolled": true
   },
   "outputs": [],
   "source": [
    "# initialization\n",
    "n = 1\n",
    "factorial_n = 1\n",
    "while(n<=10):   # test\n",
    "    # code block\n",
    "    factorial_n = factorial_n*n\n",
    "    print(n,'! = ',factorial_n)\n",
    "    n = n + 1   # termination code "
   ]
  },
  {
   "cell_type": "markdown",
   "metadata": {},
   "source": [
    "Another common way to implement a while loop, using the if test and the break command"
   ]
  },
  {
   "cell_type": "code",
   "execution_count": null,
   "metadata": {},
   "outputs": [],
   "source": [
    "# initialization\n",
    "n = 1\n",
    "factorial_n = 1\n",
    "while(True):   # test always true by definition- while(1) works too! \n",
    "    # code block\n",
    "    factorial_n = factorial_n*n\n",
    "    print(n,'! = ',factorial_n)\n",
    "    n = n + 1\n",
    "    if(factorial_n > 10000000): \n",
    "        break"
   ]
  },
  {
   "cell_type": "markdown",
   "metadata": {},
   "source": [
    "### Program control\n",
    "The if/else, for and while constructs allow you full control of your program flow and order of statement execution. Each of these constructs comes in several different flavors. As you gain experience in programming or read other people's code, you will see the same patterns or 'code phrases' reoccurring. You will be able to copy, plagiarise and adapt to your needs. The less code written from scratch, the smaller the chance of bugs."
   ]
  },
  {
   "cell_type": "markdown",
   "metadata": {},
   "source": [
    "### Constructing your program\n",
    "With the core elements of Python covered so far, you can aready write complete, powerful programs. Writing a program from scratch means first taking a step back from the technical part of code writing. Organize the top level tasks at the concept or 'pseudo-code' level first, to check your program logic. A good way to do this is to type it directly into the text file which will contain your source code as comments, i.e. prefixing each line with #. \n",
    "\n",
    "By convention, all python source code files should have the extension .py. Code can be entered with any text editor or word processing program, although using the latter is not recommended. For Python, the editor <font color='red'>spyder </font> is very good, as it contains a syntax-checker, a lot of Python specific goodies, and you can run the program from within the editor.\n",
    "\n",
    "%> spyder mysource.py"
   ]
  },
  {
   "cell_type": "code",
   "execution_count": null,
   "metadata": {
    "scrolled": false
   },
   "outputs": [],
   "source": [
    "\"\"\"\n",
    "any lines, however many, between two sets of triple double quotes are treated as comments. traditionally, each \n",
    "source code file starts with a tripled quoted comment, stating the aim of the code, author, date, any other information.\n",
    "\n",
    "code to read in data from a file, compute something\n",
    "example pseudo code for BMB510, kas, spring 2018\n",
    "\"\"\"\n",
    "# prompt user for input file name\n",
    "filename = input('enter file name')\n",
    "# open file- todo later: handle error if file not find\n",
    "# read data\n",
    "# deal with comments\n",
    "# compute values from data\n",
    "# output results \n",
    "# done!"
   ]
  },
  {
   "cell_type": "markdown",
   "metadata": {},
   "source": [
    "Once you have your pseudo code entered, start writing the actual code. Leave the pseudo-code in as part of your program comments.  Work in baby steps. I typically write no more that 10 lines of code, or one or two loops, at a time before running and testing. This way you quickly find and fix syntax errors and bugs. Remember very few programs work the first time, and even fewer are bug free, so test, test, test!"
   ]
  },
  {
   "cell_type": "markdown",
   "metadata": {
    "collapsed": true
   },
   "source": [
    "#### Assignment P2\n",
    "This is a multipart assignment. later portions are to be completed after the relevant lecture topics are covered\n",
    "\n",
    "1) Write the psuedo code/comments for the program to read a set of floating point numbers from a file, calculate basic statistical parameters: mean, std. dev, median, max, min. The format of the file is: one number per line. \n",
    "\n",
    "2) Write the code in Python, test it on mean1_test.dat. Do not use statistical packages/functions for the mean and median - code them up yourself using the basic Python covered in these notebooks\n",
    "\n",
    "3) Write a second version in which the file-reading part is written as a def, placed in a different file, and imported in the calling program. Modify this def so that it will ignore comment lines in the input file (lines starting with #).\n",
    "\n",
    "4) Add a box plot of the data to your program.\n",
    "\n",
    "5) Modify your program so that it can input more than one data file and plot them all on SAME plot \n",
    "\n",
    "6) Modify your program to use the numpy package to get the average, max and min of the data.\n"
   ]
  },
  {
   "cell_type": "code",
   "execution_count": null,
   "metadata": {},
   "outputs": [],
   "source": []
  }
 ],
 "metadata": {
  "anaconda-cloud": {},
  "kernelspec": {
   "display_name": "Python 3 (ipykernel)",
   "language": "python",
   "name": "python3"
  },
  "language_info": {
   "codemirror_mode": {
    "name": "ipython",
    "version": 3
   },
   "file_extension": ".py",
   "mimetype": "text/x-python",
   "name": "python",
   "nbconvert_exporter": "python",
   "pygments_lexer": "ipython3",
   "version": "3.7.10"
  }
 },
 "nbformat": 4,
 "nbformat_minor": 1
}
