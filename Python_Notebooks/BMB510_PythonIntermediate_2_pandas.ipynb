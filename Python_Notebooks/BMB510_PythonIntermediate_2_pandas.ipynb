{
 "cells": [
  {
   "cell_type": "markdown",
   "metadata": {},
   "source": [
    "pandas is a Python package for manipulating and analyzing tables of data, e.g. from spreadsheets.\n",
    "The most common data set is a 2D data, often corresponding to a single sheet in excel.\n",
    "This is called a data frame.\n",
    "The first row contains column labels (strings) also called axis 1\n",
    "the first column may be labels\n",
    "or data. Rows by default are assigned index values: 0....nrow"
   ]
  },
  {
   "cell_type": "code",
   "execution_count": null,
   "metadata": {},
   "outputs": [],
   "source": [
    "import pandas as pd\n",
    "import openpyxl\n",
    "# read in data, print column headings, so we know what they are\n",
    "kn = pd.read_excel('kinesin_data.xlsx')\n",
    "#kn = pd.read_csv('kinesin_data.csv')\n",
    "print(kn.axes)"
   ]
  },
  {
   "cell_type": "markdown",
   "metadata": {},
   "source": [
    "Print a few rows at beginning and end"
   ]
  },
  {
   "cell_type": "code",
   "execution_count": null,
   "metadata": {
    "scrolled": true
   },
   "outputs": [],
   "source": [
    "print(kn.head(5))\n",
    "print(kn.tail(5))"
   ]
  },
  {
   "cell_type": "markdown",
   "metadata": {},
   "source": [
    "Various way to access pieces of the data"
   ]
  },
  {
   "cell_type": "code",
   "execution_count": null,
   "metadata": {},
   "outputs": [],
   "source": [
    "#print(kn.iloc[3])  # fourth row\n",
    "#print(kn.loc[1:3,'Track Index'])  # track index for 3 rows\n",
    "tmq = kn.loc[:,'Track Min Quality']  # form a data series from a column\n",
    "print(tmq)"
   ]
  },
  {
   "cell_type": "raw",
   "metadata": {},
   "source": [
    "Get summary statistics"
   ]
  },
  {
   "cell_type": "code",
   "execution_count": null,
   "metadata": {},
   "outputs": [],
   "source": [
    "tmq.describe()"
   ]
  },
  {
   "cell_type": "markdown",
   "metadata": {},
   "source": [
    "One of the most useful features of pandas is data filtering. For example we'll only keep data with a certain minimum quality (chosen with the help of the above summary)\n",
    "and drop some columns with data we don't need"
   ]
  },
  {
   "cell_type": "code",
   "execution_count": null,
   "metadata": {},
   "outputs": [],
   "source": [
    "kn = kn[kn['Track Min Quality']>300.]\n",
    "kn = kn.drop('Number Splits',axis=1)\n",
    "kn = kn.drop('Number Merges',axis=1)\n",
    "kn = kn.drop('Number Complex',axis=1)\n",
    "print(kn.axes)\n",
    "print(kn.head(5))"
   ]
  },
  {
   "cell_type": "code",
   "execution_count": null,
   "metadata": {
    "scrolled": true
   },
   "outputs": [],
   "source": [
    "kn['Track Min Quality'].describe() # check the new min quality"
   ]
  },
  {
   "cell_type": "markdown",
   "metadata": {},
   "source": [
    "Split into two data frames based on kinesin motor type"
   ]
  },
  {
   "cell_type": "code",
   "execution_count": null,
   "metadata": {},
   "outputs": [],
   "source": [
    "kn1 = kn[kn['Motor'] == 'Kinesin-1']\n",
    "kn4 = kn[kn['Motor'] == 'Kinesin-4']\n",
    "print(kn1.size, kn4.size)"
   ]
  },
  {
   "cell_type": "markdown",
   "metadata": {},
   "source": [
    "Another useful feature is sorting"
   ]
  },
  {
   "cell_type": "code",
   "execution_count": null,
   "metadata": {},
   "outputs": [],
   "source": [
    "kn1 = kn1.sort_values(by='Track Displacement',ascending=False)\n",
    "kn4 = kn4.sort_values(by='Track Displacement')"
   ]
  },
  {
   "cell_type": "code",
   "execution_count": null,
   "metadata": {},
   "outputs": [],
   "source": [
    "kn1.head(5)"
   ]
  },
  {
   "cell_type": "code",
   "execution_count": null,
   "metadata": {},
   "outputs": [],
   "source": [
    "# do some data analysis\n",
    "kn1['Track Displacement'].describe() "
   ]
  },
  {
   "cell_type": "code",
   "execution_count": null,
   "metadata": {
    "scrolled": true
   },
   "outputs": [],
   "source": [
    "# do some data analysis\n",
    "kn4['Track Displacement'].describe() "
   ]
  },
  {
   "cell_type": "markdown",
   "metadata": {
    "scrolled": true
   },
   "source": [
    "write out data to a text file\n"
   ]
  },
  {
   "cell_type": "code",
   "execution_count": null,
   "metadata": {},
   "outputs": [],
   "source": [
    "td1 = kn1.loc[:,'Track Displacement']\n",
    "td4 = kn4.loc[:,'Track Displacement']\n",
    "td1.to_csv('kinesin1_trackdisplacement.csv', header=True)\n",
    "td4.to_csv('kinesin4_trackdisplacement.csv', header=False)"
   ]
  },
  {
   "cell_type": "markdown",
   "metadata": {},
   "source": [
    "pandas is layered on top of the matploblib package, so we can plot data using similar coommands"
   ]
  },
  {
   "cell_type": "code",
   "execution_count": null,
   "metadata": {},
   "outputs": [],
   "source": [
    "%matplotlib inline\n",
    "td4.plot.hist(bins=30)"
   ]
  },
  {
   "cell_type": "code",
   "execution_count": null,
   "metadata": {},
   "outputs": [],
   "source": []
  }
 ],
 "metadata": {
  "kernelspec": {
   "display_name": "Python 3 (ipykernel)",
   "language": "python",
   "name": "python3"
  },
  "language_info": {
   "codemirror_mode": {
    "name": "ipython",
    "version": 3
   },
   "file_extension": ".py",
   "mimetype": "text/x-python",
   "name": "python",
   "nbconvert_exporter": "python",
   "pygments_lexer": "ipython3",
   "version": "3.7.10"
  }
 },
 "nbformat": 4,
 "nbformat_minor": 2
}
